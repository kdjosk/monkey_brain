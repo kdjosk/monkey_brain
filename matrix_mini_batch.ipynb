{
 "cells": [
  {
   "cell_type": "code",
   "execution_count": 7,
   "metadata": {},
   "outputs": [
    {
     "name": "stdout",
     "output_type": "stream",
     "text": [
      "[[11 21 31 41]\n",
      " [11 21 31 41]\n",
      " [11 21 31 41]]\n"
     ]
    },
    {
     "data": {
      "text/plain": [
       "array([[1.67017008e-05, 7.58256043e-10, 3.44247711e-14, 1.56288219e-18],\n",
       "       [1.67017008e-05, 7.58256043e-10, 3.44247711e-14, 1.56288219e-18],\n",
       "       [1.67017008e-05, 7.58256043e-10, 3.44247711e-14, 1.56288219e-18]])"
      ]
     },
     "execution_count": 7,
     "metadata": {},
     "output_type": "execute_result"
    }
   ],
   "source": [
    "import numpy as np\n",
    "\n",
    "# mini batch size 4\n",
    "\n",
    "X = np.array([\n",
    "    [1, 2, 3, 4],\n",
    "    [2, 4, 6, 8],\n",
    "    [4, 8, 12, 16],\n",
    "    [2, 4, 6, 8],\n",
    "    [1, 2, 3, 4],\n",
    "])\n",
    "\n",
    "# Suppose the network has structure\n",
    "# 5, 3, 2\n",
    "\n",
    "w2 = np.array([\n",
    "    [1, 1, 1, 1, 1],\n",
    "    [1, 1, 1, 1, 1],\n",
    "    [1, 1, 1, 1, 1],\n",
    "])\n",
    "\n",
    "b2 = np.array([\n",
    "    [1],\n",
    "    [1],\n",
    "    [1],\n",
    "])\n",
    "b2.shape\n",
    "\n",
    "z = w2 @ X + b2\n",
    "print(z)\n",
    "np.exp(-z)"
   ]
  },
  {
   "cell_type": "code",
   "execution_count": 13,
   "metadata": {},
   "outputs": [
    {
     "data": {
      "text/plain": [
       "array([[0],\n",
       "       [1],\n",
       "       [2],\n",
       "       [3]])"
      ]
     },
     "execution_count": 13,
     "metadata": {},
     "output_type": "execute_result"
    }
   ],
   "source": [
    "# Suppose the network has structure\n",
    "# 5, 3, 2\n",
    "\n",
    "# neurons in 2nd layer x mini batch size\n",
    "error_2 = np.array([\n",
    "    [1, 1, 1, 1],\n",
    "    [1, 1, 1, 1],\n",
    "    [1, 1, 1, 1],\n",
    "])\n",
    "\n",
    "# neurons in 1st layer x mini batch size\n",
    "a_1 = np.array([\n",
    "    [1, 1, 1, 1],\n",
    "    [1, 1, 1, 1],\n",
    "    [1, 1, 1, 1],\n",
    "    [1, 1, 1, 1],\n",
    "    [1, 1, 1, 1]\n",
    "])\n",
    "\n",
    "a_1.sum(axis=0)\n",
    "b = np.array([0, 1, 2, 3])\n",
    "np.expand_dims(b, axis=1)"
   ]
  }
 ],
 "metadata": {
  "kernelspec": {
   "display_name": ".env",
   "language": "python",
   "name": "python3"
  },
  "language_info": {
   "codemirror_mode": {
    "name": "ipython",
    "version": 3
   },
   "file_extension": ".py",
   "mimetype": "text/x-python",
   "name": "python",
   "nbconvert_exporter": "python",
   "pygments_lexer": "ipython3",
   "version": "3.10.6"
  },
  "orig_nbformat": 4,
  "vscode": {
   "interpreter": {
    "hash": "19ce397dae8b6566f4ee391712596de72209369e49624206b9232412b3b901cc"
   }
  }
 },
 "nbformat": 4,
 "nbformat_minor": 2
}
